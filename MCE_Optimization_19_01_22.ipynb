{
  "nbformat": 4,
  "nbformat_minor": 0,
  "metadata": {
    "colab": {
      "provenance": [],
      "include_colab_link": true
    },
    "kernelspec": {
      "name": "python3",
      "display_name": "Python 3"
    },
    "language_info": {
      "name": "python"
    }
  },
  "cells": [
    {
      "cell_type": "markdown",
      "metadata": {
        "id": "view-in-github",
        "colab_type": "text"
      },
      "source": [
        "<a href=\"https://colab.research.google.com/github/BethsyA/Prueba/blob/main/MCE_Optimization_19_01_22.ipynb\" target=\"_parent\"><img src=\"https://colab.research.google.com/assets/colab-badge.svg\" alt=\"Open In Colab\"/></a>"
      ]
    },
    {
      "cell_type": "markdown",
      "source": [
        "# Maestría en Cómputo Estadístico\n",
        "## Curso de optimización\n",
        "### Gradiente descendiente\n",
        "19 de enero de 2022"
      ],
      "metadata": {
        "id": "C6qyqJvVJ9IY"
      }
    },
    {
      "cell_type": "code",
      "execution_count": null,
      "metadata": {
        "id": "T0JSH9ULJxBm"
      },
      "outputs": [],
      "source": [
        "import numpy as npy"
      ]
    },
    {
      "cell_type": "code",
      "source": [
        "def gradient_descend(x0, grad, step_size = 0.1, tol = 1e-3, max_iter = 1000):\n",
        "  x = np.array(x0, dtype = float)\n",
        "  grad_x = grad(x0)\n",
        "  grad_n = np.dot(grad_x, grad_x)\n",
        "  t = 0\n",
        "  stop = (t > max_iter) or (grad_n < tol)\n",
        "  while not stop:\n",
        "    t += 1\n",
        "    x -= (step_size * grad_x)\n",
        "    grad_x = grad(x)\n",
        "    grad_n = np.dot(grad_x, grad_x)\n",
        "    stop = (t > max_iter) or (grad_n < tol)\n",
        "\n",
        "  print('GD tomó %d iteraciones'%t)\n",
        "  return x"
      ],
      "metadata": {
        "id": "yjEgaCYmKajd"
      },
      "execution_count": null,
      "outputs": []
    },
    {
      "cell_type": "code",
      "source": [
        "def grad_ex_1(x):\n",
        "  return np.array([3 * x[0] - x[1] - 2, x[1] - x[0]])"
      ],
      "metadata": {
        "id": "TJ7VMlNXMzbA"
      },
      "execution_count": null,
      "outputs": []
    },
    {
      "cell_type": "code",
      "source": [
        "#grad_example_1 = lambda x: np.array([3 * x[0] - x[1] - 2, x[1] - x[0]])\n",
        "x_opt_example_1 = gradient_descend([0, 0], grad_ex_1, 0.75, tol = 1e-6)\n",
        "print('x1 = %3.8f y x2 = %3.8f'%(x_opt_example_1[0], x_opt_example_1[1]))"
      ],
      "metadata": {
        "colab": {
          "base_uri": "https://localhost:8080/"
        },
        "id": "Eu_KKZGOLwkB",
        "outputId": "dc76730a-cf81-489b-b6cb-9dde8078608a"
      },
      "execution_count": null,
      "outputs": [
        {
          "output_type": "stream",
          "name": "stdout",
          "text": [
            "GD tomó 1001 iteraciones\n",
            "x1 = 15871779606661509902168677273111242792450897946694155317270747787275352513459691075703919864814151547181728504122977343670272390046123928401592005606665561728337829199884549174236338831478489088.00000000 y x2 = -6574306372075905740267873723515454983755240060347836386832121872511768816379149720154520234825891579504692744181963182871353456694776317809695620296737646907193298290759653442496421427419283456.00000000\n"
          ]
        }
      ]
    },
    {
      "cell_type": "code",
      "source": [
        "grad_ex_2 = lambda x: np.array([0.5 * x[0]**2 + x[1] - 3.5, 0.5 * x[1]**2 + x[0] - 5.5])\n",
        "x_opt_example_1 = gradient_descend([2, 2], grad_ex_2, 0.25, tol = 1e-6)\n",
        "print('x1 = %3.8f y x2 = %3.8f'%(x_opt_example_1[0], x_opt_example_1[1]))"
      ],
      "metadata": {
        "colab": {
          "base_uri": "https://localhost:8080/"
        },
        "id": "uYHFMqVaNX1l",
        "outputId": "a2dd0957-b98d-489b-84b9-1f74ff6e7895"
      },
      "execution_count": null,
      "outputs": [
        {
          "output_type": "stream",
          "name": "stdout",
          "text": [
            "GD tomó 39 iteraciones\n",
            "x1 = 1.00137565 y x2 = 2.99942995\n"
          ]
        }
      ]
    }
  ]
}